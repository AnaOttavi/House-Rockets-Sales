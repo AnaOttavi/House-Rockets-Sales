{
 "cells": [
  {
   "cell_type": "markdown",
   "id": "61e5820f",
   "metadata": {},
   "source": [
    "# <font color= 'blue'>House Sales in King County, USA</font>"
   ]
  },
  {
   "cell_type": "markdown",
   "id": "ad9a1165",
   "metadata": {},
   "source": [
    "House Rocket is an online platform that negociate properties in USA.\n",
    "\n",
    "**== Business Problem ==**\n",
    "\n",
    "The CEO wants to maximize the profit's company by finding good deals.\n",
    "\n",
    "**== Current Main Strategy ==**\n",
    "\n",
    "External sources to find good deals.\n",
    "\n",
    "\n",
    "**== What the CEO wants from the Data Scientists? ==**\n",
    "\n",
    "Insight from the data company to find good properties.\n",
    "\n",
    "**== Questions ==**\n",
    "\n",
    "**1** How many properties are available for sale?\n",
    "\n",
    "**2** How many attributes for each house? (number of rooms, number of garages, m2 etc)\n",
    "\n",
    "**3** What are the attributes?\n",
    "\n",
    "**4** What is the most expensive house?\n",
    "\n",
    "**5** Which house has the greatest number oh bedrooms? \n",
    "\n",
    "**6** What is the average and median of rooms for each house?\n",
    "\n",
    "**7** How many houses have 2 bathrooms?\n",
    "\n",
    "**8** What is the average price of the houses?\n",
    "\n",
    "**9** What is the average price of 2-bathroom houses?\n",
    "\n",
    "**10** What is the lowest price for 3-bedroom houses?\n",
    "\n",
    "**11** How many houses have more than 300 square meters for the living room?\n",
    "\n",
    "**12** How many houses have more than 2 floors?\n",
    "\n",
    "**13** How many houses are seaside?\n",
    "\n",
    "**14** How many seaside houses have 3 bedrooms?\n",
    "\n",
    "**15** How many houses with more than 300 square meters for the living room have more than 2 bathrooms?\n",
    "\n",
    "**== Solution Planning ==**\n",
    "\n",
    "Deliverables: reports and dashboard.\n",
    "\n",
    "**== Dataset ==**\n",
    "https://www.kaggle.com/harlfoxem/housesalesprediction\n"
   ]
  },
  {
   "cell_type": "markdown",
   "id": "501c4899",
   "metadata": {
    "ExecuteTime": {
     "end_time": "2022-02-18T23:05:13.795059Z",
     "start_time": "2022-02-18T23:05:12.206695Z"
    },
    "heading_collapsed": true
   },
   "source": [
    "# 0.0. Imports"
   ]
  },
  {
   "cell_type": "code",
   "execution_count": 8,
   "id": "363c61ed",
   "metadata": {
    "ExecuteTime": {
     "end_time": "2022-02-18T23:09:44.446889Z",
     "start_time": "2022-02-18T23:09:44.442195Z"
    },
    "hidden": true
   },
   "outputs": [],
   "source": [
    "import pandas as pd\n",
    "import numpy as np\n",
    "import seaborn as sns\n",
    "\n",
    "from matplotlib import pyplot as plt\n",
    "from IPython.display import Image, HTML\n",
    "from datetime import datetime\n",
    "from plotly import express as px"
   ]
  },
  {
   "cell_type": "markdown",
   "id": "170bca85",
   "metadata": {
    "hidden": true
   },
   "source": [
    "## 0.1. Helper Functions"
   ]
  },
  {
   "cell_type": "code",
   "execution_count": 9,
   "id": "6e8b6d2e",
   "metadata": {
    "ExecuteTime": {
     "end_time": "2022-02-18T23:09:47.519502Z",
     "start_time": "2022-02-18T23:09:47.498048Z"
    },
    "hidden": true
   },
   "outputs": [
    {
     "name": "stdout",
     "output_type": "stream",
     "text": [
      "Populating the interactive namespace from numpy and matplotlib\n"
     ]
    },
    {
     "name": "stderr",
     "output_type": "stream",
     "text": [
      "/Users/anaotavio/opt/anaconda3/lib/python3.7/site-packages/IPython/core/magics/pylab.py:160: UserWarning: pylab import has clobbered these variables: ['datetime']\n",
      "`%matplotlib` prevents importing * from pylab and numpy\n",
      "  \"\\n`%matplotlib` prevents importing * from pylab and numpy\"\n"
     ]
    },
    {
     "data": {
      "text/html": [
       "<style>.container { width:100% !important; }</style>"
      ],
      "text/plain": [
       "<IPython.core.display.HTML object>"
      ]
     },
     "metadata": {},
     "output_type": "display_data"
    }
   ],
   "source": [
    " def jupyter_settings():\n",
    "    %matplotlib inline\n",
    "    %pylab inline\n",
    "    \n",
    "    plt.style.use( 'bmh' )\n",
    "    plt.rcParams['figure.figsize'] = [25, 12]\n",
    "    plt.rcParams['font.size'] = 24\n",
    "    \n",
    "    display( HTML( '<style>.container { width:100% !important; }</style>') )\n",
    "    pd.options.display.max_columns = None\n",
    "    pd.options.display.max_rows = None\n",
    "    pd.set_option( 'display.expand_frame_repr', False )\n",
    "    \n",
    "    sns.set()\n",
    "    \n",
    "jupyter_settings() "
   ]
  },
  {
   "cell_type": "markdown",
   "id": "755fca97",
   "metadata": {
    "hidden": true
   },
   "source": [
    "## 0.2. Load dataset"
   ]
  },
  {
   "cell_type": "code",
   "execution_count": 12,
   "id": "a8baf025",
   "metadata": {
    "ExecuteTime": {
     "end_time": "2022-02-18T23:10:25.144524Z",
     "start_time": "2022-02-18T23:10:25.091466Z"
    },
    "hidden": true
   },
   "outputs": [],
   "source": [
    "# load data\n",
    "df_raw = pd.read_csv('/Users/anaotavio/Documents/repos/house_sales/data/kc_house_data.csv')"
   ]
  },
  {
   "cell_type": "markdown",
   "id": "eb9545c0",
   "metadata": {
    "heading_collapsed": true
   },
   "source": [
    "# 1.0. Data Description"
   ]
  },
  {
   "cell_type": "code",
   "execution_count": 13,
   "id": "832d5baf",
   "metadata": {
    "ExecuteTime": {
     "end_time": "2022-02-18T23:11:11.921743Z",
     "start_time": "2022-02-18T23:11:11.914568Z"
    },
    "hidden": true
   },
   "outputs": [],
   "source": [
    "df1 = df_raw.copy()"
   ]
  },
  {
   "cell_type": "code",
   "execution_count": 14,
   "id": "e5c60b12",
   "metadata": {
    "ExecuteTime": {
     "end_time": "2022-02-18T23:11:26.388300Z",
     "start_time": "2022-02-18T23:11:26.382742Z"
    },
    "hidden": true
   },
   "outputs": [
    {
     "data": {
      "text/plain": [
       "Index(['id', 'date', 'price', 'bedrooms', 'bathrooms', 'sqft_living',\n",
       "       'sqft_lot', 'floors', 'waterfront', 'view', 'condition', 'grade',\n",
       "       'sqft_above', 'sqft_basement', 'yr_built', 'yr_renovated', 'zipcode',\n",
       "       'lat', 'long', 'sqft_living15', 'sqft_lot15'],\n",
       "      dtype='object')"
      ]
     },
     "execution_count": 14,
     "metadata": {},
     "output_type": "execute_result"
    }
   ],
   "source": [
    "df1.columns"
   ]
  },
  {
   "cell_type": "markdown",
   "id": "94a6f185",
   "metadata": {
    "ExecuteTime": {
     "end_time": "2022-02-18T23:11:48.399677Z",
     "start_time": "2022-02-18T23:11:48.369494Z"
    },
    "hidden": true
   },
   "source": [
    "## 1.1. Data dimensions"
   ]
  },
  {
   "cell_type": "code",
   "execution_count": 16,
   "id": "b287e624",
   "metadata": {
    "ExecuteTime": {
     "end_time": "2022-02-18T23:13:21.454429Z",
     "start_time": "2022-02-18T23:13:21.449384Z"
    },
    "hidden": true
   },
   "outputs": [
    {
     "name": "stdout",
     "output_type": "stream",
     "text": [
      "Number of Rows: 21613\n",
      "Number of Columns: 21\n"
     ]
    }
   ],
   "source": [
    "print('Number of Rows: {}'.format(df1.shape[0]))\n",
    "print('Number of Columns: {}'.format(df1.shape[1]))"
   ]
  },
  {
   "cell_type": "markdown",
   "id": "3c2a13e9",
   "metadata": {
    "hidden": true
   },
   "source": [
    "## 1.2. Data types"
   ]
  },
  {
   "cell_type": "code",
   "execution_count": 34,
   "id": "b7d0a354",
   "metadata": {
    "ExecuteTime": {
     "end_time": "2022-02-18T23:27:15.388799Z",
     "start_time": "2022-02-18T23:27:15.360135Z"
    },
    "hidden": true
   },
   "outputs": [],
   "source": [
    "df1['date'] = pd.to_datetime( df1['date'])"
   ]
  },
  {
   "cell_type": "code",
   "execution_count": 35,
   "id": "b55003a7",
   "metadata": {
    "ExecuteTime": {
     "end_time": "2022-02-18T23:27:16.085143Z",
     "start_time": "2022-02-18T23:27:16.077507Z"
    },
    "hidden": true
   },
   "outputs": [
    {
     "data": {
      "text/plain": [
       "id                        int64\n",
       "date             datetime64[ns]\n",
       "price                   float64\n",
       "bedrooms                  int64\n",
       "bathrooms               float64\n",
       "sqft_living               int64\n",
       "sqft_lot                  int64\n",
       "floors                  float64\n",
       "waterfront                int64\n",
       "view                      int64\n",
       "condition                 int64\n",
       "grade                     int64\n",
       "sqft_above                int64\n",
       "sqft_basement             int64\n",
       "yr_built                  int64\n",
       "yr_renovated              int64\n",
       "zipcode                   int64\n",
       "lat                     float64\n",
       "long                    float64\n",
       "sqft_living15             int64\n",
       "sqft_lot15                int64\n",
       "dtype: object"
      ]
     },
     "execution_count": 35,
     "metadata": {},
     "output_type": "execute_result"
    }
   ],
   "source": [
    "df1.dtypes"
   ]
  },
  {
   "cell_type": "markdown",
   "id": "ed9b319c",
   "metadata": {
    "hidden": true
   },
   "source": [
    "## 1.3. Check NA"
   ]
  },
  {
   "cell_type": "code",
   "execution_count": 36,
   "id": "16388345",
   "metadata": {
    "ExecuteTime": {
     "end_time": "2022-02-18T23:27:21.119560Z",
     "start_time": "2022-02-18T23:27:21.108928Z"
    },
    "hidden": true
   },
   "outputs": [
    {
     "data": {
      "text/plain": [
       "id               0\n",
       "date             0\n",
       "price            0\n",
       "bedrooms         0\n",
       "bathrooms        0\n",
       "sqft_living      0\n",
       "sqft_lot         0\n",
       "floors           0\n",
       "waterfront       0\n",
       "view             0\n",
       "condition        0\n",
       "grade            0\n",
       "sqft_above       0\n",
       "sqft_basement    0\n",
       "yr_built         0\n",
       "yr_renovated     0\n",
       "zipcode          0\n",
       "lat              0\n",
       "long             0\n",
       "sqft_living15    0\n",
       "sqft_lot15       0\n",
       "dtype: int64"
      ]
     },
     "execution_count": 36,
     "metadata": {},
     "output_type": "execute_result"
    }
   ],
   "source": [
    "df1.isna().sum()"
   ]
  },
  {
   "cell_type": "markdown",
   "id": "085425f4",
   "metadata": {
    "hidden": true
   },
   "source": [
    "## 1.4 Descriptive Statistical"
   ]
  },
  {
   "cell_type": "code",
   "execution_count": 37,
   "id": "746f5a0f",
   "metadata": {
    "ExecuteTime": {
     "end_time": "2022-02-18T23:27:21.882361Z",
     "start_time": "2022-02-18T23:27:21.866945Z"
    },
    "hidden": true
   },
   "outputs": [],
   "source": [
    "num_attributes = df1.select_dtypes( include = ['int64', 'float64'])\n",
    "cat_attributes = df1.select_dtypes( exclude = ['int64', 'float64', 'datetime64[ns]'])"
   ]
  },
  {
   "cell_type": "markdown",
   "id": "5ff85375",
   "metadata": {
    "heading_collapsed": true,
    "hidden": true
   },
   "source": [
    "### 1.7.1 Numerical Attributes"
   ]
  },
  {
   "cell_type": "code",
   "execution_count": 38,
   "id": "71036e78",
   "metadata": {
    "ExecuteTime": {
     "end_time": "2022-02-18T23:27:22.560774Z",
     "start_time": "2022-02-18T23:27:22.504862Z"
    },
    "hidden": true
   },
   "outputs": [
    {
     "data": {
      "text/html": [
       "<div>\n",
       "<style scoped>\n",
       "    .dataframe tbody tr th:only-of-type {\n",
       "        vertical-align: middle;\n",
       "    }\n",
       "\n",
       "    .dataframe tbody tr th {\n",
       "        vertical-align: top;\n",
       "    }\n",
       "\n",
       "    .dataframe thead th {\n",
       "        text-align: right;\n",
       "    }\n",
       "</style>\n",
       "<table border=\"1\" class=\"dataframe\">\n",
       "  <thead>\n",
       "    <tr style=\"text-align: right;\">\n",
       "      <th></th>\n",
       "      <th>attributes</th>\n",
       "      <th>min</th>\n",
       "      <th>max</th>\n",
       "      <th>range</th>\n",
       "      <th>mean</th>\n",
       "      <th>median</th>\n",
       "      <th>std</th>\n",
       "      <th>skew</th>\n",
       "      <th>kurtosis</th>\n",
       "    </tr>\n",
       "  </thead>\n",
       "  <tbody>\n",
       "    <tr>\n",
       "      <th>0</th>\n",
       "      <td>id</td>\n",
       "      <td>1.000102e+06</td>\n",
       "      <td>9.900000e+09</td>\n",
       "      <td>9.899000e+09</td>\n",
       "      <td>4.580302e+09</td>\n",
       "      <td>3.904930e+09</td>\n",
       "      <td>2.876499e+09</td>\n",
       "      <td>0.243329</td>\n",
       "      <td>-1.260542</td>\n",
       "    </tr>\n",
       "    <tr>\n",
       "      <th>1</th>\n",
       "      <td>price</td>\n",
       "      <td>7.500000e+04</td>\n",
       "      <td>7.700000e+06</td>\n",
       "      <td>7.625000e+06</td>\n",
       "      <td>5.400881e+05</td>\n",
       "      <td>4.500000e+05</td>\n",
       "      <td>3.671187e+05</td>\n",
       "      <td>4.024069</td>\n",
       "      <td>34.585540</td>\n",
       "    </tr>\n",
       "    <tr>\n",
       "      <th>2</th>\n",
       "      <td>bedrooms</td>\n",
       "      <td>0.000000e+00</td>\n",
       "      <td>3.300000e+01</td>\n",
       "      <td>3.300000e+01</td>\n",
       "      <td>3.370842e+00</td>\n",
       "      <td>3.000000e+00</td>\n",
       "      <td>9.300403e-01</td>\n",
       "      <td>1.974300</td>\n",
       "      <td>49.063653</td>\n",
       "    </tr>\n",
       "    <tr>\n",
       "      <th>3</th>\n",
       "      <td>bathrooms</td>\n",
       "      <td>0.000000e+00</td>\n",
       "      <td>8.000000e+00</td>\n",
       "      <td>8.000000e+00</td>\n",
       "      <td>2.114757e+00</td>\n",
       "      <td>2.250000e+00</td>\n",
       "      <td>7.701453e-01</td>\n",
       "      <td>0.511108</td>\n",
       "      <td>1.279902</td>\n",
       "    </tr>\n",
       "    <tr>\n",
       "      <th>4</th>\n",
       "      <td>sqft_living</td>\n",
       "      <td>2.900000e+02</td>\n",
       "      <td>1.354000e+04</td>\n",
       "      <td>1.325000e+04</td>\n",
       "      <td>2.079900e+03</td>\n",
       "      <td>1.910000e+03</td>\n",
       "      <td>9.184196e+02</td>\n",
       "      <td>1.471555</td>\n",
       "      <td>5.243093</td>\n",
       "    </tr>\n",
       "    <tr>\n",
       "      <th>5</th>\n",
       "      <td>sqft_lot</td>\n",
       "      <td>5.200000e+02</td>\n",
       "      <td>1.651359e+06</td>\n",
       "      <td>1.650839e+06</td>\n",
       "      <td>1.510697e+04</td>\n",
       "      <td>7.618000e+03</td>\n",
       "      <td>4.141955e+04</td>\n",
       "      <td>13.060019</td>\n",
       "      <td>285.077820</td>\n",
       "    </tr>\n",
       "    <tr>\n",
       "      <th>6</th>\n",
       "      <td>floors</td>\n",
       "      <td>1.000000e+00</td>\n",
       "      <td>3.500000e+00</td>\n",
       "      <td>2.500000e+00</td>\n",
       "      <td>1.494309e+00</td>\n",
       "      <td>1.500000e+00</td>\n",
       "      <td>5.399764e-01</td>\n",
       "      <td>0.616177</td>\n",
       "      <td>-0.484723</td>\n",
       "    </tr>\n",
       "    <tr>\n",
       "      <th>7</th>\n",
       "      <td>waterfront</td>\n",
       "      <td>0.000000e+00</td>\n",
       "      <td>1.000000e+00</td>\n",
       "      <td>1.000000e+00</td>\n",
       "      <td>7.541757e-03</td>\n",
       "      <td>0.000000e+00</td>\n",
       "      <td>8.651520e-02</td>\n",
       "      <td>11.385108</td>\n",
       "      <td>127.632494</td>\n",
       "    </tr>\n",
       "    <tr>\n",
       "      <th>8</th>\n",
       "      <td>view</td>\n",
       "      <td>0.000000e+00</td>\n",
       "      <td>4.000000e+00</td>\n",
       "      <td>4.000000e+00</td>\n",
       "      <td>2.343034e-01</td>\n",
       "      <td>0.000000e+00</td>\n",
       "      <td>7.662998e-01</td>\n",
       "      <td>3.395750</td>\n",
       "      <td>10.893022</td>\n",
       "    </tr>\n",
       "    <tr>\n",
       "      <th>9</th>\n",
       "      <td>condition</td>\n",
       "      <td>1.000000e+00</td>\n",
       "      <td>5.000000e+00</td>\n",
       "      <td>4.000000e+00</td>\n",
       "      <td>3.409430e+00</td>\n",
       "      <td>3.000000e+00</td>\n",
       "      <td>6.507280e-01</td>\n",
       "      <td>1.032805</td>\n",
       "      <td>0.525764</td>\n",
       "    </tr>\n",
       "    <tr>\n",
       "      <th>10</th>\n",
       "      <td>grade</td>\n",
       "      <td>1.000000e+00</td>\n",
       "      <td>1.300000e+01</td>\n",
       "      <td>1.200000e+01</td>\n",
       "      <td>7.656873e+00</td>\n",
       "      <td>7.000000e+00</td>\n",
       "      <td>1.175432e+00</td>\n",
       "      <td>0.771103</td>\n",
       "      <td>1.190932</td>\n",
       "    </tr>\n",
       "    <tr>\n",
       "      <th>11</th>\n",
       "      <td>sqft_above</td>\n",
       "      <td>2.900000e+02</td>\n",
       "      <td>9.410000e+03</td>\n",
       "      <td>9.120000e+03</td>\n",
       "      <td>1.788391e+03</td>\n",
       "      <td>1.560000e+03</td>\n",
       "      <td>8.280718e+02</td>\n",
       "      <td>1.446664</td>\n",
       "      <td>3.402304</td>\n",
       "    </tr>\n",
       "    <tr>\n",
       "      <th>12</th>\n",
       "      <td>sqft_basement</td>\n",
       "      <td>0.000000e+00</td>\n",
       "      <td>4.820000e+03</td>\n",
       "      <td>4.820000e+03</td>\n",
       "      <td>2.915090e+02</td>\n",
       "      <td>0.000000e+00</td>\n",
       "      <td>4.425648e+02</td>\n",
       "      <td>1.577965</td>\n",
       "      <td>2.715574</td>\n",
       "    </tr>\n",
       "    <tr>\n",
       "      <th>13</th>\n",
       "      <td>yr_built</td>\n",
       "      <td>1.900000e+03</td>\n",
       "      <td>2.015000e+03</td>\n",
       "      <td>1.150000e+02</td>\n",
       "      <td>1.971005e+03</td>\n",
       "      <td>1.975000e+03</td>\n",
       "      <td>2.937273e+01</td>\n",
       "      <td>-0.469805</td>\n",
       "      <td>-0.657408</td>\n",
       "    </tr>\n",
       "    <tr>\n",
       "      <th>14</th>\n",
       "      <td>yr_renovated</td>\n",
       "      <td>0.000000e+00</td>\n",
       "      <td>2.015000e+03</td>\n",
       "      <td>2.015000e+03</td>\n",
       "      <td>8.440226e+01</td>\n",
       "      <td>0.000000e+00</td>\n",
       "      <td>4.016699e+02</td>\n",
       "      <td>4.549493</td>\n",
       "      <td>18.701152</td>\n",
       "    </tr>\n",
       "    <tr>\n",
       "      <th>15</th>\n",
       "      <td>zipcode</td>\n",
       "      <td>9.800100e+04</td>\n",
       "      <td>9.819900e+04</td>\n",
       "      <td>1.980000e+02</td>\n",
       "      <td>9.807794e+04</td>\n",
       "      <td>9.806500e+04</td>\n",
       "      <td>5.350379e+01</td>\n",
       "      <td>0.405661</td>\n",
       "      <td>-0.853479</td>\n",
       "    </tr>\n",
       "    <tr>\n",
       "      <th>16</th>\n",
       "      <td>lat</td>\n",
       "      <td>4.715590e+01</td>\n",
       "      <td>4.777760e+01</td>\n",
       "      <td>6.217000e-01</td>\n",
       "      <td>4.756005e+01</td>\n",
       "      <td>4.757180e+01</td>\n",
       "      <td>1.385605e-01</td>\n",
       "      <td>-0.485270</td>\n",
       "      <td>-0.676313</td>\n",
       "    </tr>\n",
       "    <tr>\n",
       "      <th>17</th>\n",
       "      <td>long</td>\n",
       "      <td>-1.225190e+02</td>\n",
       "      <td>-1.213150e+02</td>\n",
       "      <td>1.204000e+00</td>\n",
       "      <td>-1.222139e+02</td>\n",
       "      <td>-1.222300e+02</td>\n",
       "      <td>1.408251e-01</td>\n",
       "      <td>0.885053</td>\n",
       "      <td>1.049501</td>\n",
       "    </tr>\n",
       "    <tr>\n",
       "      <th>18</th>\n",
       "      <td>sqft_living15</td>\n",
       "      <td>3.990000e+02</td>\n",
       "      <td>6.210000e+03</td>\n",
       "      <td>5.811000e+03</td>\n",
       "      <td>1.986552e+03</td>\n",
       "      <td>1.840000e+03</td>\n",
       "      <td>6.853754e+02</td>\n",
       "      <td>1.108181</td>\n",
       "      <td>1.597096</td>\n",
       "    </tr>\n",
       "    <tr>\n",
       "      <th>19</th>\n",
       "      <td>sqft_lot15</td>\n",
       "      <td>6.510000e+02</td>\n",
       "      <td>8.712000e+05</td>\n",
       "      <td>8.705490e+05</td>\n",
       "      <td>1.276846e+04</td>\n",
       "      <td>7.620000e+03</td>\n",
       "      <td>2.730355e+04</td>\n",
       "      <td>9.506743</td>\n",
       "      <td>150.763110</td>\n",
       "    </tr>\n",
       "  </tbody>\n",
       "</table>\n",
       "</div>"
      ],
      "text/plain": [
       "       attributes           min           max         range          mean        median           std       skew    kurtosis\n",
       "0              id  1.000102e+06  9.900000e+09  9.899000e+09  4.580302e+09  3.904930e+09  2.876499e+09   0.243329   -1.260542\n",
       "1           price  7.500000e+04  7.700000e+06  7.625000e+06  5.400881e+05  4.500000e+05  3.671187e+05   4.024069   34.585540\n",
       "2        bedrooms  0.000000e+00  3.300000e+01  3.300000e+01  3.370842e+00  3.000000e+00  9.300403e-01   1.974300   49.063653\n",
       "3       bathrooms  0.000000e+00  8.000000e+00  8.000000e+00  2.114757e+00  2.250000e+00  7.701453e-01   0.511108    1.279902\n",
       "4     sqft_living  2.900000e+02  1.354000e+04  1.325000e+04  2.079900e+03  1.910000e+03  9.184196e+02   1.471555    5.243093\n",
       "5        sqft_lot  5.200000e+02  1.651359e+06  1.650839e+06  1.510697e+04  7.618000e+03  4.141955e+04  13.060019  285.077820\n",
       "6          floors  1.000000e+00  3.500000e+00  2.500000e+00  1.494309e+00  1.500000e+00  5.399764e-01   0.616177   -0.484723\n",
       "7      waterfront  0.000000e+00  1.000000e+00  1.000000e+00  7.541757e-03  0.000000e+00  8.651520e-02  11.385108  127.632494\n",
       "8            view  0.000000e+00  4.000000e+00  4.000000e+00  2.343034e-01  0.000000e+00  7.662998e-01   3.395750   10.893022\n",
       "9       condition  1.000000e+00  5.000000e+00  4.000000e+00  3.409430e+00  3.000000e+00  6.507280e-01   1.032805    0.525764\n",
       "10          grade  1.000000e+00  1.300000e+01  1.200000e+01  7.656873e+00  7.000000e+00  1.175432e+00   0.771103    1.190932\n",
       "11     sqft_above  2.900000e+02  9.410000e+03  9.120000e+03  1.788391e+03  1.560000e+03  8.280718e+02   1.446664    3.402304\n",
       "12  sqft_basement  0.000000e+00  4.820000e+03  4.820000e+03  2.915090e+02  0.000000e+00  4.425648e+02   1.577965    2.715574\n",
       "13       yr_built  1.900000e+03  2.015000e+03  1.150000e+02  1.971005e+03  1.975000e+03  2.937273e+01  -0.469805   -0.657408\n",
       "14   yr_renovated  0.000000e+00  2.015000e+03  2.015000e+03  8.440226e+01  0.000000e+00  4.016699e+02   4.549493   18.701152\n",
       "15        zipcode  9.800100e+04  9.819900e+04  1.980000e+02  9.807794e+04  9.806500e+04  5.350379e+01   0.405661   -0.853479\n",
       "16            lat  4.715590e+01  4.777760e+01  6.217000e-01  4.756005e+01  4.757180e+01  1.385605e-01  -0.485270   -0.676313\n",
       "17           long -1.225190e+02 -1.213150e+02  1.204000e+00 -1.222139e+02 -1.222300e+02  1.408251e-01   0.885053    1.049501\n",
       "18  sqft_living15  3.990000e+02  6.210000e+03  5.811000e+03  1.986552e+03  1.840000e+03  6.853754e+02   1.108181    1.597096\n",
       "19     sqft_lot15  6.510000e+02  8.712000e+05  8.705490e+05  1.276846e+04  7.620000e+03  2.730355e+04   9.506743  150.763110"
      ]
     },
     "execution_count": 38,
     "metadata": {},
     "output_type": "execute_result"
    }
   ],
   "source": [
    "# Central Tendency - mean, median\n",
    "t1 = pd.DataFrame (num_attributes.apply(np.mean)).T\n",
    "t2 = pd.DataFrame (num_attributes.apply(np.median)).T\n",
    "\n",
    "# Dispersion - std, min, max, range, skwe, kutosis\n",
    "d1 = pd.DataFrame (num_attributes.apply(np.std)).T\n",
    "d2 = pd.DataFrame (num_attributes.apply(np.min)).T\n",
    "d3 = pd.DataFrame (num_attributes.apply(np.max)).T\n",
    "d4 = pd.DataFrame(num_attributes.apply(lambda x: x.max() - x.min())).T\n",
    "d5 = pd.DataFrame(num_attributes.apply(lambda x: x.skew())).T\n",
    "d6 = pd.DataFrame(num_attributes.apply(lambda x: x.kurtosis())).T\n",
    "\n",
    "# concat\n",
    "m1 = pd.concat([d2, d3, d4, t1, t2, d1, d5, d6]).T.reset_index()\n",
    "m1.columns = ['attributes', 'min', 'max', 'range', 'mean', 'median', 'std', 'skew', 'kurtosis']\n",
    "m1"
   ]
  },
  {
   "cell_type": "code",
   "execution_count": 39,
   "id": "10763356",
   "metadata": {
    "ExecuteTime": {
     "end_time": "2022-02-18T23:27:23.335107Z",
     "start_time": "2022-02-18T23:27:23.081238Z"
    },
    "hidden": true
   },
   "outputs": [
    {
     "name": "stderr",
     "output_type": "stream",
     "text": [
      "/Users/anaotavio/opt/anaconda3/lib/python3.7/site-packages/seaborn/distributions.py:2619: FutureWarning: `distplot` is a deprecated function and will be removed in a future version. Please adapt your code to use either `displot` (a figure-level function with similar flexibility) or `histplot` (an axes-level function for histograms).\n",
      "  warnings.warn(msg, FutureWarning)\n"
     ]
    },
    {
     "data": {
      "text/plain": [
       "<AxesSubplot:xlabel='price', ylabel='Density'>"
      ]
     },
     "execution_count": 39,
     "metadata": {},
     "output_type": "execute_result"
    },
    {
     "data": {
      "image/png": "[encoded data removed]",
      "text/plain": [
       "<Figure size 1800x864 with 1 Axes>"
      ]
     },
     "metadata": {},
     "output_type": "display_data"
    }
   ],
   "source": [
    "sns.distplot(df1['price'])"
   ]
  },
  {
   "cell_type": "markdown",
   "id": "4a4f794e",
   "metadata": {},
   "source": [
    "# 2.0 == Questions =="
   ]
  },
  {
   "cell_type": "markdown",
   "id": "27be6c7e",
   "metadata": {},
   "source": [
    "### 2.1 How many properties are available for sale?"
   ]
  },
  {
   "cell_type": "code",
   "execution_count": 154,
   "id": "99c2bbac",
   "metadata": {
    "ExecuteTime": {
     "end_time": "2022-02-19T14:27:24.347343Z",
     "start_time": "2022-02-19T14:27:24.342728Z"
    },
    "hide_input": false
   },
   "outputs": [
    {
     "name": "stdout",
     "output_type": "stream",
     "text": [
      "The number of properties availabe for sale is 21613.\n"
     ]
    }
   ],
   "source": [
    "num_houses_unique = df1.shape[0]\n",
    "print('The number of properties availabe for sale is {}.'.format(df1.shape[0]))"
   ]
  },
  {
   "cell_type": "markdown",
   "id": "82d74cd3",
   "metadata": {},
   "source": [
    "### 2.2  How many attributes for each house? (number of rooms, number of garages, m2 etc)"
   ]
  },
  {
   "cell_type": "code",
   "execution_count": 156,
   "id": "8732b45d",
   "metadata": {
    "ExecuteTime": {
     "end_time": "2022-02-19T14:28:30.899647Z",
     "start_time": "2022-02-19T14:28:30.895247Z"
    }
   },
   "outputs": [
    {
     "name": "stdout",
     "output_type": "stream",
     "text": [
      "The number of attributes is 19.\n"
     ]
    }
   ],
   "source": [
    "num_attributes = len( df1.columns ) - 2\n",
    "# id e date - no attributes\n",
    "print('The number of attributes is {}.'.format(len( df1.columns ) - 2))"
   ]
  },
  {
   "cell_type": "markdown",
   "id": "9def327d",
   "metadata": {},
   "source": [
    "### 2.3 What are the attributes?"
   ]
  },
  {
   "cell_type": "code",
   "execution_count": 159,
   "id": "5a5b8444",
   "metadata": {
    "ExecuteTime": {
     "end_time": "2022-02-19T18:55:01.461828Z",
     "start_time": "2022-02-19T18:55:01.453880Z"
    }
   },
   "outputs": [
    {
     "name": "stdout",
     "output_type": "stream",
     "text": [
      "['price', 'bedrooms', 'bathrooms', 'sqft_living', 'sqft_lot', 'floors', 'waterfront', 'view', 'condition', 'grade', 'sqft_above', 'sqft_basement', 'yr_built', 'yr_renovated', 'zipcode', 'lat', 'long', 'sqft_living15', 'sqft_lot15']\n"
     ]
    }
   ],
   "source": [
    "df = df1.drop( ['id', 'date'], axis=1 )\n",
    "print( df.columns.tolist() )"
   ]
  },
  {
   "cell_type": "markdown",
   "id": "03a74aa1",
   "metadata": {},
   "source": [
    "### 2.4 What is the most expensive house?"
   ]
  },
  {
   "cell_type": "code",
   "execution_count": 164,
   "id": "fd242188",
   "metadata": {
    "ExecuteTime": {
     "end_time": "2022-02-19T18:58:50.838326Z",
     "start_time": "2022-02-19T18:58:50.817450Z"
    }
   },
   "outputs": [
    {
     "name": "stdout",
     "output_type": "stream",
     "text": [
      "The most expensive house is 7129300520.\n"
     ]
    }
   ],
   "source": [
    "house_expensive = df1[['id', 'price']].sort_values( 'price', ascending=False ).loc[0,'id']\n",
    "\n",
    "print('The most expensive house is {}.'.format(house_expensive))"
   ]
  },
  {
   "cell_type": "markdown",
   "id": "c7ec5b54",
   "metadata": {},
   "source": [
    "### 2.5 Which house has the greatest number oh bedrooms?"
   ]
  },
  {
   "cell_type": "code",
   "execution_count": 177,
   "id": "57a09616",
   "metadata": {
    "ExecuteTime": {
     "end_time": "2022-02-19T19:04:11.162494Z",
     "start_time": "2022-02-19T19:04:11.153109Z"
    }
   },
   "outputs": [
    {
     "name": "stdout",
     "output_type": "stream",
     "text": [
      "The house with greatest number of bedrooms is 2402100895\n"
     ]
    }
   ],
   "source": [
    "df = df1[['id', 'bedrooms']].sort_values( 'bedrooms', ascending=False )\n",
    "print('The house with greatest number of bedrooms is {}'.format(df.iloc[0,0]))"
   ]
  },
  {
   "cell_type": "markdown",
   "id": "48f3f5fa",
   "metadata": {
    "ExecuteTime": {
     "end_time": "2022-02-19T00:15:53.281236Z",
     "start_time": "2022-02-19T00:15:53.278041Z"
    }
   },
   "source": [
    "### 2.6 What is the total sum of bedrooms of dataset?"
   ]
  },
  {
   "cell_type": "code",
   "execution_count": 181,
   "id": "a532adde",
   "metadata": {
    "ExecuteTime": {
     "end_time": "2022-02-19T19:06:03.849410Z",
     "start_time": "2022-02-19T19:06:03.845050Z"
    }
   },
   "outputs": [
    {
     "name": "stdout",
     "output_type": "stream",
     "text": [
      "Total sum of bedrooms is 72854.\n"
     ]
    }
   ],
   "source": [
    "print( 'Total sum of bedrooms is {}.'.format( df1['bedrooms'].sum() ) )"
   ]
  },
  {
   "cell_type": "markdown",
   "id": "50913f6f",
   "metadata": {},
   "source": [
    "### 2.7 How many houses have 2 bathrooms?"
   ]
  },
  {
   "cell_type": "code",
   "execution_count": 110,
   "id": "b8818fdc",
   "metadata": {
    "ExecuteTime": {
     "end_time": "2022-02-19T00:13:46.176656Z",
     "start_time": "2022-02-19T00:13:46.168625Z"
    }
   },
   "outputs": [
    {
     "name": "stdout",
     "output_type": "stream",
     "text": [
      "The number of houses with 2 bathrooms is 1930.\n"
     ]
    }
   ],
   "source": [
    "print('The number of houses with 2 bathrooms is {}.'.format(df1[df1['bathrooms']==2].shape[0]))"
   ]
  },
  {
   "cell_type": "markdown",
   "id": "78091318",
   "metadata": {},
   "source": [
    "### 2.8 What is the average price of the houses?"
   ]
  },
  {
   "cell_type": "code",
   "execution_count": 111,
   "id": "6e4a3806",
   "metadata": {
    "ExecuteTime": {
     "end_time": "2022-02-19T00:14:25.174622Z",
     "start_time": "2022-02-19T00:14:25.170304Z"
    }
   },
   "outputs": [
    {
     "name": "stdout",
     "output_type": "stream",
     "text": [
      "The average price of the houses is 540088.14.\n"
     ]
    }
   ],
   "source": [
    "print('The average price of the houses is {:.2f}.'.format(df1['price'].mean()))"
   ]
  },
  {
   "cell_type": "markdown",
   "id": "67db5562",
   "metadata": {},
   "source": [
    "### 2.9 What is the average price of 2-bathroom houses?"
   ]
  },
  {
   "cell_type": "code",
   "execution_count": 121,
   "id": "1b6c494b",
   "metadata": {
    "ExecuteTime": {
     "end_time": "2022-02-19T00:21:52.379865Z",
     "start_time": "2022-02-19T00:21:52.372003Z"
    }
   },
   "outputs": [
    {
     "name": "stdout",
     "output_type": "stream",
     "text": [
      "The average price of 2-bathroom houses is 457889.72.\n"
     ]
    }
   ],
   "source": [
    "print('The average price of 2-bathroom houses is {:.2f}.'.format(df1[df1['bathrooms']==2]['price'].mean()))"
   ]
  },
  {
   "cell_type": "markdown",
   "id": "6e1e9c52",
   "metadata": {},
   "source": [
    "### 2.10 What is the lowest price for 3-bedroom houses?"
   ]
  },
  {
   "cell_type": "code",
   "execution_count": 123,
   "id": "2250a2c2",
   "metadata": {
    "ExecuteTime": {
     "end_time": "2022-02-19T00:23:31.533431Z",
     "start_time": "2022-02-19T00:23:31.524722Z"
    }
   },
   "outputs": [
    {
     "name": "stdout",
     "output_type": "stream",
     "text": [
      "The lowest price for 3-bedroom houses is 82000.00.\n"
     ]
    }
   ],
   "source": [
    "print('The lowest price for 3-bedroom houses is {:.2f}.'.format(df1[df1['bedrooms']==3]['price'].min()))"
   ]
  },
  {
   "cell_type": "markdown",
   "id": "3855f130",
   "metadata": {},
   "source": [
    "### 2.11 How many houses have more than 300 square meters for the living room?\n"
   ]
  },
  {
   "cell_type": "code",
   "execution_count": 127,
   "id": "86743e17",
   "metadata": {
    "ExecuteTime": {
     "end_time": "2022-02-19T00:26:54.246173Z",
     "start_time": "2022-02-19T00:26:54.236676Z"
    }
   },
   "outputs": [
    {
     "name": "stdout",
     "output_type": "stream",
     "text": [
      "The number of houses that have more than 300 sqft meters for living room  is 21612.\n"
     ]
    }
   ],
   "source": [
    "print('The number of houses that have more than 300 sqft meters for living room is {}.'.format(df1[df1['sqft_living']>300].shape[0]))"
   ]
  },
  {
   "cell_type": "markdown",
   "id": "5122976c",
   "metadata": {
    "ExecuteTime": {
     "end_time": "2022-02-19T00:27:13.194637Z",
     "start_time": "2022-02-19T00:27:13.192000Z"
    }
   },
   "source": [
    "### 2.12 How many houses have more than 2 floors?"
   ]
  },
  {
   "cell_type": "code",
   "execution_count": 129,
   "id": "a6896a12",
   "metadata": {
    "ExecuteTime": {
     "end_time": "2022-02-19T00:27:56.178456Z",
     "start_time": "2022-02-19T00:27:56.171285Z"
    }
   },
   "outputs": [
    {
     "name": "stdout",
     "output_type": "stream",
     "text": [
      "The number of houses that have more than 2 floors is 782.\n"
     ]
    }
   ],
   "source": [
    "print('The number of houses that have more than 2 floors is {}.'.format(df1[df1['floors']>2].shape[0]))"
   ]
  },
  {
   "cell_type": "markdown",
   "id": "ff6f1aeb",
   "metadata": {},
   "source": [
    "### 2.13 How many houses are seaside?"
   ]
  },
  {
   "cell_type": "code",
   "execution_count": 182,
   "id": "189d8f93",
   "metadata": {
    "ExecuteTime": {
     "end_time": "2022-02-19T19:08:31.422531Z",
     "start_time": "2022-02-19T19:08:31.408125Z"
    }
   },
   "outputs": [
    {
     "name": "stdout",
     "output_type": "stream",
     "text": [
      "The number of seaside houses is 163.\n"
     ]
    }
   ],
   "source": [
    "print('The number of seaside houses is {}.'.format(df1[df1['waterfront']==1].shape[0]))"
   ]
  },
  {
   "cell_type": "markdown",
   "id": "e682f166",
   "metadata": {
    "ExecuteTime": {
     "end_time": "2022-02-19T00:34:43.425964Z",
     "start_time": "2022-02-19T00:34:43.312355Z"
    }
   },
   "source": [
    "### 2.14 How many seaside houses have 3 bedrooms?"
   ]
  },
  {
   "cell_type": "code",
   "execution_count": 184,
   "id": "8aeda4b7",
   "metadata": {
    "ExecuteTime": {
     "end_time": "2022-02-19T19:10:03.944244Z",
     "start_time": "2022-02-19T19:10:03.934812Z"
    }
   },
   "outputs": [
    {
     "name": "stdout",
     "output_type": "stream",
     "text": [
      "The number of seaside houses with 3 bedrooms is 127.\n"
     ]
    }
   ],
   "source": [
    "print('The number of seaside houses with 3 bedrooms is {}.'.format(df1[(df1['bedrooms']>2) & (df1['waterfront']==1)].shape[0]))"
   ]
  },
  {
   "cell_type": "markdown",
   "id": "185e8f3e",
   "metadata": {},
   "source": [
    "### 2.15 How many houses with more than 300 square meters for the living room have more than 2 bathrooms?\n"
   ]
  },
  {
   "cell_type": "code",
   "execution_count": 185,
   "id": "c0eaaff0",
   "metadata": {
    "ExecuteTime": {
     "end_time": "2022-02-19T19:10:41.427875Z",
     "start_time": "2022-02-19T19:10:41.418203Z"
    }
   },
   "outputs": [
    {
     "name": "stdout",
     "output_type": "stream",
     "text": [
      "The number of houses with more than 300 square meters for the living room and more than 2 bathrooms is 11242.\n"
     ]
    }
   ],
   "source": [
    "print('The number of houses with more than 300 square meters for the living room and more than 2 bathrooms is {}.'.format(df1[(df1['sqft_living']>300) & (df1['bathrooms']>2)].shape[0]))"
   ]
  },
  {
   "cell_type": "code",
   "execution_count": null,
   "id": "a370fe7f",
   "metadata": {},
   "outputs": [],
   "source": []
  }
 ],
 "metadata": {
  "kernelspec": {
   "display_name": "Python 3",
   "language": "python",
   "name": "python3"
  },
  "language_info": {
   "codemirror_mode": {
    "name": "ipython",
    "version": 3
   },
   "file_extension": ".py",
   "mimetype": "text/x-python",
   "name": "python",
   "nbconvert_exporter": "python",
   "pygments_lexer": "ipython3",
   "version": "3.7.6"
  },
  "nbTranslate": {
   "displayLangs": [
    "*"
   ],
   "hotkey": "alt-t",
   "langInMainMenu": true,
   "sourceLang": "en",
   "targetLang": "fr",
   "useGoogleTranslate": true
  }
 },
 "nbformat": 4,
 "nbformat_minor": 5
}
